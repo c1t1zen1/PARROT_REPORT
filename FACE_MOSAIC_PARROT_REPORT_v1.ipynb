{
  "cells": [
    {
      "cell_type": "markdown",
      "metadata": {
        "id": "view-in-github",
        "colab_type": "text"
      },
      "source": [
        "<a href=\"https://colab.research.google.com/github/c1t1zen1/PARROT_REPORT/blob/ART/FACE_MOSAIC_PARROT_REPORT_v1.ipynb\" target=\"_parent\"><img src=\"https://colab.research.google.com/assets/colab-badge.svg\" alt=\"Open In Colab\"/></a>"
      ]
    },
    {
      "cell_type": "markdown",
      "source": [
        "# PARROT REPORT MOSAIC FACES v1"
      ],
      "metadata": {
        "id": "47Bn4BMSY3Rh"
      }
    },
    {
      "cell_type": "code",
      "execution_count": null,
      "metadata": {
        "id": "II9znrMMf4pn"
      },
      "outputs": [],
      "source": [
        "# @title Install Face Recognition & Connect G-Drive { vertical-output: true, display-mode: \"form\" }\n",
        "from google.colab import drive\n",
        "drive.mount('/content/drive')\n",
        "\n",
        "!pip install face_recognition\n",
        "!Nvidia-smi"
      ]
    },
    {
      "cell_type": "code",
      "execution_count": null,
      "metadata": {
        "id": "7aHTISoygDow"
      },
      "outputs": [],
      "source": [
        "# @title Find All Faces Down Center of All Image { vertical-output: true, display-mode: \"form\" }\n",
        "Folders = \"['/content/drive/MyDrive/HTML_Kali/14_08_2023/tmp', '/content/drive/MyDrive/HTML_Kali/15_08_2023/tmp', '/content/drive/MyDrive/HTML_Kali/16_08_2023/tmp', '/content/drive/MyDrive/HTML_Kali/17_08_2023/tmp', '/content/drive/MyDrive/HTML_Kali/18_08_2023/tmp', '/content/drive/MyDrive/HTML_Kali/19_08_2023/tmp', '/content/drive/MyDrive/HTML_Kali/20_08_2023/Bimg/tmp', '/content/drive/MyDrive/HTML_Kali/21_08_2023/Bimg/tmp', '/content/drive/MyDrive/HTML_Kali/22_08_2023/Bimg/tmp', '/content/drive/MyDrive/HTML_Kali/23_08_2023/Bimg/tmp', '/content/drive/MyDrive/HTML_Kali/24_08_2023/Bimg/tmp', '/content/drive/MyDrive/HTML_Kali/25_08_2023/Bimg/tmp', '/content/drive/MyDrive/HTML_Kali/26_08_2023/Bimg/tmp', '/content/drive/MyDrive/HTML_Kali/27_08_2023/Bimg/tmp', '/content/drive/MyDrive/HTML_Kali/28_08_2023/Bimg/tmp', '/content/drive/MyDrive/HTML_Kali/29_08_2023/Bimg/tmp', '/content/drive/MyDrive/HTML_Kali/30_08_2023/Bimg/tmp', '/content/drive/MyDrive/HTML_Kali/31_08_2023/Bimg/tmp', '/content/drive/MyDrive/HTML_Kali/01_09_2023/Bimg/tmp', '/content/drive/MyDrive/HTML_Kali/02_09_2023/Bimg/tmp', '/content/drive/MyDrive/HTML_Kali/03_09_2023/Bimg/tmp', '/content/drive/MyDrive/HTML_Kali/04_09_2023/Bimg/tmp', '/content/drive/MyDrive/HTML_Kali/05_09_2023/Bimg/tmp']\" # @param {type:\"string\"}\n",
        "# Import necessary libraries\n",
        "import os\n",
        "import face_recognition\n",
        "\n",
        "# Ensure CUDA GPU is being used by Dlib (backend for face_recognition)\n",
        "import dlib\n",
        "if dlib.cuda.get_num_devices() == 0:\n",
        "    raise ValueError(\"No CUDA GPUs detected!\")\n",
        "dlib.DLIB_USE_CUDA = True\n",
        "\n",
        "# Path to the directory containing images on Google Drive\n",
        "image_directories = Folders\n",
        "\n",
        "# List of valid image extensions\n",
        "valid_image_extensions = ['.jpg', '.jpeg', '.png', '.bmp', '.tiff']\n",
        "\n",
        "# Threshold (in pixels) for determining if a face is horizontally centered\n",
        "center_threshold = 100\n",
        "\n",
        "# Define a minimum face size threshold (e.g., 3000 square pixels)\n",
        "min_face_size = 3000\n",
        "\n",
        "# List to store paths of images containing horizontally centered human faces\n",
        "centered_face_images = []\n",
        "\n",
        "def process_directory(directory):\n",
        "    \"\"\"Recursively process a directory and its subdirectories.\"\"\"\n",
        "    for item_name in os.listdir(directory):\n",
        "        item_path = os.path.join(directory, item_name)\n",
        "\n",
        "        # Check if the item is a file\n",
        "        if os.path.isfile(item_path) and os.path.splitext(item_path)[1].lower() in valid_image_extensions:\n",
        "            # Load the image using face_recognition\n",
        "            image = face_recognition.load_image_file(item_path)\n",
        "\n",
        "            # Find all face locations in the image using the CNN model\n",
        "            face_locations = face_recognition.face_locations(image, model=\"cnn\")\n",
        "\n",
        "            # Calculate the horizontal center of the image using its dimensions\n",
        "            image_horizontal_center = image.shape[1] // 2\n",
        "\n",
        "            for face_location in face_locations:\n",
        "                top, right, bottom, left = face_location\n",
        "\n",
        "                # Calculate the area of the detected face bounding box\n",
        "                face_area = (right - left) * (bottom - top)\n",
        "\n",
        "                # If the face is smaller than the minimum size, skip to the next face\n",
        "                if face_area < min_face_size:\n",
        "                    continue\n",
        "\n",
        "                # Calculate the horizontal center of the detected face bounding box\n",
        "                face_horizontal_center = (left + right) // 2\n",
        "\n",
        "                # Compute the difference between the image's horizontal center and face's horizontal center\n",
        "                horizontal_difference = abs(face_horizontal_center - image_horizontal_center)\n",
        "\n",
        "                # If the difference is below the threshold, consider the face as horizontally centered\n",
        "                if horizontal_difference < center_threshold:\n",
        "                    print(f\"Found horizontally centered foreground face in {item_path}\")\n",
        "                    centered_face_images.append(item_path)\n",
        "                    break\n",
        "\n",
        "        # If the item is a directory, process it recursively\n",
        "        elif os.path.isdir(item_path):\n",
        "            process_directory(item_path)\n",
        "\n",
        "# Start processing from the root directory\n",
        "for directory in image_directories:\n",
        "    process_directory(directory)\n",
        "\n",
        "# Specify the path to save the output text file on Google Drive\n",
        "output_file_path = '/content/drive/MyDrive/MosaicFaces.txt'\n",
        "\n",
        "# Save the list of images with horizontally centered human faces to the text file\n",
        "with open(output_file_path, 'w') as file:\n",
        "    for image_path in centered_face_images:\n",
        "        file.write(image_path + '\\n')\n",
        "\n",
        "print(f\"List of images with horizontally centered human faces saved to {output_file_path}\")\n"
      ]
    },
    {
      "cell_type": "code",
      "source": [
        "# @title Copy MosaicFaces To Folder { vertical-output: true, display-mode: \"form\" }\n",
        "import shutil\n",
        "from datetime import datetime\n",
        "\n",
        "# Path to the directory where centered face images will be copied\n",
        "output_directory = '/content/drive/MyDrive/MosaicFaces'\n",
        "if not os.path.exists(output_directory):\n",
        "    os.makedirs(output_directory)\n",
        "\n",
        "# Load the list of images with centered human faces from the text file\n",
        "with open(output_file_path, 'r') as file:\n",
        "    centered_face_images = file.readlines()\n",
        "\n",
        "# Copy the images to the output directory with unique names based on timestamps\n",
        "for image_path in centered_face_images:\n",
        "    image_path = image_path.strip()  # Remove any trailing whitespace\n",
        "    timestamp = datetime.now().strftime('%Y%m%d%H%M%S%f')\n",
        "    new_filename = f\"centered_face_{timestamp}{os.path.splitext(image_path)[1]}\"\n",
        "    shutil.copy(image_path, os.path.join(output_directory, new_filename))\n",
        "\n",
        "print(f\"Centered face images copied to {output_directory}\")\n"
      ],
      "metadata": {
        "id": "BSMSxznTPTjq"
      },
      "execution_count": null,
      "outputs": []
    },
    {
      "cell_type": "code",
      "source": [
        "# @title Delete Duplicates { vertical-output: true, display-mode: \"form\" }\n",
        "# Remove Duplicates\n",
        "import os\n",
        "import hashlib\n",
        "\n",
        "def compute_md5(image_path):\n",
        "    \"\"\"Compute the MD5 hash of an image.\"\"\"\n",
        "    with open(image_path, 'rb') as f:\n",
        "        return hashlib.md5(f.read()).hexdigest()\n",
        "\n",
        "# Define the directory to scan\n",
        "image_directory = '/content/drive/MyDrive/MosaicFaces'\n",
        "\n",
        "# Dictionary to store image hashes\n",
        "image_hashes = {}\n",
        "\n",
        "# List to store paths of duplicate images\n",
        "duplicates = []\n",
        "\n",
        "for image_path in os.listdir(image_directory):\n",
        "    full_path = os.path.join(image_directory, image_path)\n",
        "\n",
        "    # Compute the MD5 hash for the image\n",
        "    image_hash = compute_md5(full_path)\n",
        "\n",
        "    # If the hash already exists in the dictionary, it's a duplicate\n",
        "    if image_hash in image_hashes:\n",
        "        duplicates.append(full_path)\n",
        "        os.remove(full_path)  # Delete the duplicate image\n",
        "    else:\n",
        "        image_hashes[image_hash] = full_path\n",
        "\n",
        "# Print out the deleted duplicates\n",
        "if duplicates:\n",
        "    print(\"Deleted duplicate images:\")\n",
        "    for dup in duplicates:\n",
        "        print(dup)\n",
        "else:\n",
        "    print(\"No duplicate images found.\")"
      ],
      "metadata": {
        "id": "3-E68_6wPpLu"
      },
      "execution_count": null,
      "outputs": []
    }
  ],
  "metadata": {
    "colab": {
      "provenance": [],
      "gpuType": "T4",
      "include_colab_link": true
    },
    "kernelspec": {
      "display_name": "Python 3",
      "name": "python3"
    },
    "language_info": {
      "name": "python"
    },
    "accelerator": "GPU"
  },
  "nbformat": 4,
  "nbformat_minor": 0
}